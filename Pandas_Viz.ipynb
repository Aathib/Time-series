{
 "cells": [
  {
   "cell_type": "markdown",
   "metadata": {},
   "source": [
    "# Pandas Built-in Data Visualization"
   ]
  },
  {
   "cell_type": "markdown",
   "metadata": {},
   "source": [
    "# Plot Types\n",
    "\n",
    "There are several plot types built into pandas; most of them are statistical by nature:\n",
    "\n",
    "<pre>\n",
    "df.plot.hist()     histogram\n",
    "df.plot.bar()      bar chart\n",
    "df.plot.barh()     horizontal bar chart\n",
    "df.plot.line()     line chart\n",
    "df.plot.area()     area chart\n",
    "df.plot.scatter()  scatter plot\n",
    "df.plot.box()      box plot\n",
    "df.plot.kde()      kde plot\n",
    "df.plot.hexbin()   hexagonal bin plot\n",
    "df.plot.pie()      pie chart</pre>\n",
    "\n",
    "You can also call specific plots by passing their name as an argument, as with `df.plot(kind='area')`.\n",
    "\n",
    "Let's start going through them! First we'll look at the data:"
   ]
  },
  {
   "cell_type": "markdown",
   "metadata": {},
   "source": [
    "<table style=\"display: inline-block\">\n",
    "    <tr><th>PROPERTY</th><th>CODE</th><th>VALUE</th><th>EFFECT</th></tr>\n",
    "    <tr><td>linestyle</td><td><tt>ls</tt></td><td><tt>'-'</tt></td><td>solid line (default)</td></tr>\n",
    "    <tr><td>linestyle</td><td><tt>ls</tt></td><td><tt>'--'</tt></td><td>dashed line</td></tr>\n",
    "    <tr><td>linestyle</td><td><tt>ls</tt></td><td><tt>'-.'</tt></td><td>dashed/dotted line</td></tr>\n",
    "    <tr><td>linestyle</td><td><tt>ls</tt></td><td><tt>':'</tt></td><td>dotted line</td></tr>\n",
    "    <tr><td>color</td><td><tt>c</tt></td><td>string</td><td></td></tr>\n",
    "    <tr><td>linewidth</td><td><tt>lw</tt></td><td>float</td><td></td></tr>\n",
    "</table>"
   ]
  },
  {
   "cell_type": "markdown",
   "metadata": {},
   "source": [
    "## Plot Legend Placement\n",
    "Pandas tries to optimize placement of the legend to reduce overlap on the plot itself. However, we can control the placement ourselves, and even place the legend outside of the plot. We do this through the <tt>.legend()</tt> method. <a href='https://matplotlib.org/api/_as_gen/matplotlib.pyplot.legend.html'>[reference]</a>\n",
    "\n",
    "For starters we can pass a location code. <tt>.legend(loc=1)</tt> places the legend in the upper-right corner of the plot.<br>Alternatively we can pass a location string: <tt>.legend(loc='upper right')</tt> does the same thing.\n",
    "\n",
    "<table style=\"display: inline-block\">\n",
    "<tr><th>LOCATION CODE</th><th>LOCATION STRING</th></tr>\n",
    "<tr><td>0</td><td>'best'</td></tr>\n",
    "<tr><td>1</td><td>'upper right'</td></tr>\n",
    "<tr><td>2</td><td>'upper left'</td></tr>\n",
    "<tr><td>3</td><td>'lower left'</td></tr>\n",
    "<tr><td>4</td><td>'lower right'</td></tr>\n",
    "<tr><td>5</td><td>'right'</td></tr>\n",
    "<tr><td>6</td><td>'center left'</td></tr>\n",
    "<tr><td>7</td><td>'center right'</td></tr>\n",
    "<tr><td>8</td><td>'lower center'</td></tr>\n",
    "<tr><td>9</td><td>'upper center'</td></tr>\n",
    "<tr><td>10</td><td>'center'</td></tr>\n",
    "</table>"
   ]
  },
  {
   "cell_type": "code",
   "execution_count": null,
   "metadata": {},
   "outputs": [],
   "source": [
    "title='Starbucks Closing Stock Prices'\n",
    "ylabel='Closing Price (USD)'\n",
    "xlabel='Closing Date'\n",
    "\n",
    "ax = df['Close'].plot(figsize=(12,6),title=title)\n",
    "ax.autoscale(axis='x',tight=True)\n",
    "ax.set(xlabel=xlabel, ylabel=ylabel);"
   ]
  },
  {
   "cell_type": "markdown",
   "metadata": {},
   "source": [
    "## X Limits\n",
    "There are two ways we can set a specific span of time as an x-axis limit. We can plot a slice of the dataset, or we can pass x-limit values as an argument into df.plot()."
   ]
  },
  {
   "cell_type": "code",
   "execution_count": null,
   "metadata": {},
   "outputs": [],
   "source": [
    "# Dates are separated by a colon:\n",
    "df['Close']['2017-01-01':'2017-03-01'].plot(figsize=(12,4)).autoscale(axis='x',tight=True);\n",
    "\n",
    "# Dates are separated by a comma:\n",
    "df['Close'].plot(figsize=(12,4),xlim=['2017-01-01','2017-03-01']);\n",
    "\n",
    "# PLUG THESE IN AS Y-LIMIT VALUES:\n",
    "df['Close'].plot(figsize=(12,4),xlim=['2017-01-01','2017-03-01'],ylim=[51,57]);\n",
    "\n",
    "df['Close'].plot(figsize=(12,4),xlim=['2017-01-01','2017-03-01'],ylim=[0,60]);\n",
    "\n",
    "df['Close'].plot(xlim=['2017-01-01','2017-03-01'],ylim=[51,57],ls='--',c='r');\n",
    "\n"
   ]
  },
  {
   "cell_type": "code",
   "execution_count": null,
   "metadata": {},
   "outputs": [],
   "source": [
    "##Gridlines\n",
    "\n",
    "ax = df['Close'].plot(xlim=['2017-01-01','2017-03-01'],ylim=[51,57],rot=0,title='2017 Starbucks Closing Stock Prices')\n",
    "ax.set(xlabel='')\n",
    "\n",
    "ax.xaxis.set_major_locator(dates.WeekdayLocator(byweekday=0))\n",
    "ax.xaxis.set_major_formatter(dates.DateFormatter('%d'))\n",
    "\n",
    "ax.xaxis.set_minor_locator(dates.MonthLocator())\n",
    "ax.xaxis.set_minor_formatter(dates.DateFormatter('\\n\\n%b'))\n",
    "\n",
    "ax.yaxis.grid(True)\n",
    "ax.xaxis.grid(True)"
   ]
  },
  {
   "cell_type": "code",
   "execution_count": null,
   "metadata": {},
   "outputs": [],
   "source": []
  },
  {
   "cell_type": "code",
   "execution_count": null,
   "metadata": {},
   "outputs": [],
   "source": []
  }
 ],
 "metadata": {
  "kernelspec": {
   "display_name": "Python 3",
   "language": "python",
   "name": "python3"
  },
  "language_info": {
   "codemirror_mode": {
    "name": "ipython",
    "version": 3
   },
   "file_extension": ".py",
   "mimetype": "text/x-python",
   "name": "python",
   "nbconvert_exporter": "python",
   "pygments_lexer": "ipython3",
   "version": "3.7.2"
  }
 },
 "nbformat": 4,
 "nbformat_minor": 4
}
